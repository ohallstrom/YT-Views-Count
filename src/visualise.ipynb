{
 "cells": [
  {
   "cell_type": "markdown",
   "metadata": {},
   "source": [
    "# Visualisation notebook\n",
    "In the following notebook you will see some visualisations of \n",
    "YouTube views of the indie band [Billie Garlic](https://open.spotify.com/artist/2KZoVTprHSLoYX7G38MBh9?si=R92K6MuyS7CVYXcQfcbmHw&dl_branch=1)."
   ]
  },
  {
   "cell_type": "markdown",
   "metadata": {},
   "source": [
    "## 1 Set up and import of data"
   ]
  },
  {
   "cell_type": "code",
   "execution_count": 66,
   "metadata": {},
   "outputs": [],
   "source": [
    "import update_csv\n",
    "update_csv.main()"
   ]
  },
  {
   "cell_type": "code",
   "execution_count": 58,
   "metadata": {},
   "outputs": [],
   "source": [
    "import pandas as pd\n",
    "%matplotlib inline"
   ]
  },
  {
   "cell_type": "code",
   "execution_count": 59,
   "metadata": {},
   "outputs": [],
   "source": [
    "DATA_PATH = '../generated/updated_video_data.csv'"
   ]
  },
  {
   "cell_type": "code",
   "execution_count": 60,
   "metadata": {},
   "outputs": [
    {
     "data": {
      "text/html": [
       "<div>\n",
       "<style scoped>\n",
       "    .dataframe tbody tr th:only-of-type {\n",
       "        vertical-align: middle;\n",
       "    }\n",
       "\n",
       "    .dataframe tbody tr th {\n",
       "        vertical-align: top;\n",
       "    }\n",
       "\n",
       "    .dataframe thead th {\n",
       "        text-align: right;\n",
       "    }\n",
       "</style>\n",
       "<table border=\"1\" class=\"dataframe\">\n",
       "  <thead>\n",
       "    <tr style=\"text-align: right;\">\n",
       "      <th></th>\n",
       "      <th>Title</th>\n",
       "      <th>Channel</th>\n",
       "      <th>Views</th>\n",
       "      <th>URL</th>\n",
       "    </tr>\n",
       "  </thead>\n",
       "  <tbody>\n",
       "    <tr>\n",
       "      <th>0</th>\n",
       "      <td>Ms Curious</td>\n",
       "      <td>Billie Garlic - Topic</td>\n",
       "      <td>8394</td>\n",
       "      <td>https://www.youtube.com/watch?v=y7jMc0eYjf4</td>\n",
       "    </tr>\n",
       "    <tr>\n",
       "      <th>1</th>\n",
       "      <td>Billie Garlic - Celestial Aioli (full EP)</td>\n",
       "      <td>Billie Garlic</td>\n",
       "      <td>1388</td>\n",
       "      <td>https://www.youtube.com/watch?v=PHi-95P_YAk</td>\n",
       "    </tr>\n",
       "    <tr>\n",
       "      <th>2</th>\n",
       "      <td>Billie Garlic - Ms Curious (WARNING! Indie gon...</td>\n",
       "      <td>Billie Garlic</td>\n",
       "      <td>8715</td>\n",
       "      <td>https://www.youtube.com/watch?v=BbFhxh2eJn4</td>\n",
       "    </tr>\n",
       "    <tr>\n",
       "      <th>3</th>\n",
       "      <td>Billie Garlic - Celestial Aioli (Full EP)</td>\n",
       "      <td>The Daily Dose</td>\n",
       "      <td>48882</td>\n",
       "      <td>https://www.youtube.com/watch?v=spmyWJ_mWMg</td>\n",
       "    </tr>\n",
       "    <tr>\n",
       "      <th>4</th>\n",
       "      <td>Billie Garlic - Engineering Invention</td>\n",
       "      <td>Billie Garlic</td>\n",
       "      <td>773</td>\n",
       "      <td>https://www.youtube.com/watch?v=UKwwYtknZiE</td>\n",
       "    </tr>\n",
       "    <tr>\n",
       "      <th>5</th>\n",
       "      <td>Best Indie Discoveries | May 2021</td>\n",
       "      <td>The Daily Dose</td>\n",
       "      <td>218043</td>\n",
       "      <td>https://www.youtube.com/watch?v=qZ12eHriNCY&amp;t=1s</td>\n",
       "    </tr>\n",
       "    <tr>\n",
       "      <th>6</th>\n",
       "      <td>Billie Garlic - Celestial Aioli (FULL EP)</td>\n",
       "      <td>The Cassette Box</td>\n",
       "      <td>20</td>\n",
       "      <td>https://www.youtube.com/watch?v=V8SZGXPN-YU</td>\n",
       "    </tr>\n",
       "    <tr>\n",
       "      <th>7</th>\n",
       "      <td>Billie Garlic - Ms Curious</td>\n",
       "      <td>The Cassette Box</td>\n",
       "      <td>163</td>\n",
       "      <td>https://www.youtube.com/watch?v=AQv_760hnvM</td>\n",
       "    </tr>\n",
       "    <tr>\n",
       "      <th>8</th>\n",
       "      <td>Billie Garlic - Engineering Invention</td>\n",
       "      <td>The Cassette Box</td>\n",
       "      <td>28</td>\n",
       "      <td>https://www.youtube.com/watch?v=60Vmx6Usi8M</td>\n",
       "    </tr>\n",
       "  </tbody>\n",
       "</table>\n",
       "</div>"
      ],
      "text/plain": [
       "                                               Title                Channel  \\\n",
       "0                                         Ms Curious  Billie Garlic - Topic   \n",
       "1          Billie Garlic - Celestial Aioli (full EP)          Billie Garlic   \n",
       "2  Billie Garlic - Ms Curious (WARNING! Indie gon...          Billie Garlic   \n",
       "3          Billie Garlic - Celestial Aioli (Full EP)         The Daily Dose   \n",
       "4              Billie Garlic - Engineering Invention          Billie Garlic   \n",
       "5                  Best Indie Discoveries | May 2021         The Daily Dose   \n",
       "6          Billie Garlic - Celestial Aioli (FULL EP)       The Cassette Box   \n",
       "7                         Billie Garlic - Ms Curious       The Cassette Box   \n",
       "8              Billie Garlic - Engineering Invention       The Cassette Box   \n",
       "\n",
       "    Views                                               URL  \n",
       "0    8394       https://www.youtube.com/watch?v=y7jMc0eYjf4  \n",
       "1    1388       https://www.youtube.com/watch?v=PHi-95P_YAk  \n",
       "2    8715       https://www.youtube.com/watch?v=BbFhxh2eJn4  \n",
       "3   48882       https://www.youtube.com/watch?v=spmyWJ_mWMg  \n",
       "4     773       https://www.youtube.com/watch?v=UKwwYtknZiE  \n",
       "5  218043  https://www.youtube.com/watch?v=qZ12eHriNCY&t=1s  \n",
       "6      20       https://www.youtube.com/watch?v=V8SZGXPN-YU  \n",
       "7     163       https://www.youtube.com/watch?v=AQv_760hnvM  \n",
       "8      28       https://www.youtube.com/watch?v=60Vmx6Usi8M  "
      ]
     },
     "execution_count": 60,
     "metadata": {},
     "output_type": "execute_result"
    }
   ],
   "source": [
    "videos_df = pd.read_csv(DATA_PATH)\n",
    "videos_df"
   ]
  },
  {
   "cell_type": "markdown",
   "metadata": {},
   "source": [
    "## 2 Treatment and visualisation of data"
   ]
  },
  {
   "cell_type": "markdown",
   "metadata": {},
   "source": [
    "### Calculate total amount of views"
   ]
  },
  {
   "cell_type": "code",
   "execution_count": 61,
   "metadata": {},
   "outputs": [
    {
     "name": "stdout",
     "output_type": "stream",
     "text": [
      "Billie garlic has 286406 views on YouTube.\n"
     ]
    }
   ],
   "source": [
    "total_views = videos_df['Views'].sum()\n",
    "print(\"Billie garlic has {} views on YouTube.\".format(total_views))"
   ]
  },
  {
   "cell_type": "markdown",
   "metadata": {},
   "source": [
    "### Plot views by video in pie chart"
   ]
  },
  {
   "cell_type": "markdown",
   "metadata": {},
   "source": [
    "Prepare dataframe for plot by merging videos with a too little proportion of the total views into an others category."
   ]
  },
  {
   "cell_type": "code",
   "execution_count": 62,
   "metadata": {},
   "outputs": [],
   "source": [
    "views_title_df = videos_df[videos_df['Views'] > total_views * 5 / 360][['Title', 'Views']]\n",
    "removed_views = total_views - views_title_df['Views'].sum()\n",
    "views_title_pie_df = views_title_df.append({'Title': \"Others\", 'Views': removed_views}, ignore_index = True)\n"
   ]
  },
  {
   "cell_type": "code",
   "execution_count": 63,
   "metadata": {},
   "outputs": [
    {
     "data": {
      "text/plain": [
       "<AxesSubplot:title={'center':'Views per video'}, ylabel='Views'>"
      ]
     },
     "execution_count": 63,
     "metadata": {},
     "output_type": "execute_result"
    },
    {
     "data": {
      "image/png": "[encoded data removed]",
      "text/plain": [
       "<Figure size 432x288 with 1 Axes>"
      ]
     },
     "metadata": {},
     "output_type": "display_data"
    }
   ],
   "source": [
    "views_title_pie_df.plot.pie(y = 'Views', title = \"Views per video\", labels = views_title_pie_df['Title'],  radius = 3, labeldistance = None)"
   ]
  },
  {
   "cell_type": "markdown",
   "metadata": {},
   "source": [
    "### Plot views by channel in pie chart"
   ]
  },
  {
   "cell_type": "markdown",
   "metadata": {},
   "source": [
    "Group views by channel."
   ]
  },
  {
   "cell_type": "code",
   "execution_count": 64,
   "metadata": {},
   "outputs": [
    {
     "data": {
      "text/html": [
       "<div>\n",
       "<style scoped>\n",
       "    .dataframe tbody tr th:only-of-type {\n",
       "        vertical-align: middle;\n",
       "    }\n",
       "\n",
       "    .dataframe tbody tr th {\n",
       "        vertical-align: top;\n",
       "    }\n",
       "\n",
       "    .dataframe thead th {\n",
       "        text-align: right;\n",
       "    }\n",
       "</style>\n",
       "<table border=\"1\" class=\"dataframe\">\n",
       "  <thead>\n",
       "    <tr style=\"text-align: right;\">\n",
       "      <th></th>\n",
       "      <th>Views</th>\n",
       "    </tr>\n",
       "    <tr>\n",
       "      <th>Channel</th>\n",
       "      <th></th>\n",
       "    </tr>\n",
       "  </thead>\n",
       "  <tbody>\n",
       "    <tr>\n",
       "      <th>Billie Garlic</th>\n",
       "      <td>10876</td>\n",
       "    </tr>\n",
       "    <tr>\n",
       "      <th>Billie Garlic - Topic</th>\n",
       "      <td>8394</td>\n",
       "    </tr>\n",
       "    <tr>\n",
       "      <th>The Cassette Box</th>\n",
       "      <td>211</td>\n",
       "    </tr>\n",
       "    <tr>\n",
       "      <th>The Daily Dose</th>\n",
       "      <td>266925</td>\n",
       "    </tr>\n",
       "  </tbody>\n",
       "</table>\n",
       "</div>"
      ],
      "text/plain": [
       "                        Views\n",
       "Channel                      \n",
       "Billie Garlic           10876\n",
       "Billie Garlic - Topic    8394\n",
       "The Cassette Box          211\n",
       "The Daily Dose         266925"
      ]
     },
     "execution_count": 64,
     "metadata": {},
     "output_type": "execute_result"
    }
   ],
   "source": [
    "channel_df = videos_df.groupby(videos_df.Channel).sum()\n",
    "channel_df"
   ]
  },
  {
   "cell_type": "code",
   "execution_count": 65,
   "metadata": {},
   "outputs": [
    {
     "data": {
      "text/plain": [
       "<AxesSubplot:title={'center':'Views per channel'}, ylabel='Views'>"
      ]
     },
     "execution_count": 65,
     "metadata": {},
     "output_type": "execute_result"
    },
    {
     "data": {
      "image/png": "[encoded data removed]",
      "text/plain": [
       "<Figure size 432x288 with 1 Axes>"
      ]
     },
     "metadata": {},
     "output_type": "display_data"
    }
   ],
   "source": [
    "channel_df.plot.pie(y = 'Views', title = \"Views per channel\", radius = 3, labeldistance = None)"
   ]
  }
 ],
 "metadata": {
  "interpreter": {
   "hash": "24ca4be73995f5f6c55b5047f39da87722f02f9d48b69a91b127def2869ddebf"
  },
  "kernelspec": {
   "display_name": "Python 3.8.11 64-bit ('ada': conda)",
   "name": "python3"
  },
  "language_info": {
   "codemirror_mode": {
    "name": "ipython",
    "version": 3
   },
   "file_extension": ".py",
   "mimetype": "text/x-python",
   "name": "python",
   "nbconvert_exporter": "python",
   "pygments_lexer": "ipython3",
   "version": "3.8.11"
  },
  "orig_nbformat": 4
 },
 "nbformat": 4,
 "nbformat_minor": 2
}
